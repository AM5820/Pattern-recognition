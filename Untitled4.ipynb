{
 "cells": [
  {
   "cell_type": "code",
   "execution_count": 4,
   "metadata": {},
   "outputs": [],
   "source": [
    "import numpy as np\n",
    "from sklearn.datasets import load_digits\n",
    "from sklearn.model_selection import train_test_split\n",
    "from sklearn.linear_model import LogisticRegression"
   ]
  },
  {
   "cell_type": "code",
   "execution_count": 2,
   "metadata": {},
   "outputs": [],
   "source": [
    "digits = load_digits()"
   ]
  },
  {
   "cell_type": "code",
   "execution_count": 7,
   "metadata": {},
   "outputs": [
    {
     "data": {
      "text/plain": [
       "dict_keys(['data', 'target', 'target_names', 'images', 'DESCR'])"
      ]
     },
     "execution_count": 7,
     "metadata": {},
     "output_type": "execute_result"
    }
   ],
   "source": [
    "digits.keys()"
   ]
  },
  {
   "cell_type": "code",
   "execution_count": 8,
   "metadata": {},
   "outputs": [
    {
     "data": {
      "text/plain": [
       "(1797, 64)"
      ]
     },
     "execution_count": 8,
     "metadata": {},
     "output_type": "execute_result"
    }
   ],
   "source": [
    "digits.data.shape"
   ]
  },
  {
   "cell_type": "code",
   "execution_count": 9,
   "metadata": {},
   "outputs": [],
   "source": [
    "X,y = digits.data , digits.target"
   ]
  },
  {
   "cell_type": "code",
   "execution_count": 32,
   "metadata": {},
   "outputs": [],
   "source": [
    "X_train,X_test,y_train,y_test = train_test_split(X,y,stratify=y,random_state=42)"
   ]
  },
  {
   "cell_type": "code",
   "execution_count": 33,
   "metadata": {},
   "outputs": [
    {
     "data": {
      "text/plain": [
       "(1347, 64)"
      ]
     },
     "execution_count": 33,
     "metadata": {},
     "output_type": "execute_result"
    }
   ],
   "source": [
    "X_train.shape"
   ]
  },
  {
   "cell_type": "code",
   "execution_count": 34,
   "metadata": {},
   "outputs": [
    {
     "data": {
      "text/plain": [
       "(450, 64)"
      ]
     },
     "execution_count": 34,
     "metadata": {},
     "output_type": "execute_result"
    }
   ],
   "source": [
    "X_test.shape"
   ]
  },
  {
   "cell_type": "code",
   "execution_count": 67,
   "metadata": {},
   "outputs": [],
   "source": [
    "log = LogisticRegression(C=0.01,solver='liblinear',multi_class='auto')"
   ]
  },
  {
   "cell_type": "code",
   "execution_count": 71,
   "metadata": {},
   "outputs": [
    {
     "name": "stdout",
     "output_type": "stream",
     "text": [
      "Train acc = 98.29250185597624\n",
      "Test acc = 97.11111111111111\n"
     ]
    }
   ],
   "source": [
    "log.fit(X_train,y_train)\n",
    "print('Train acc = ' + str(log.score(X_train,y_train)*100))\n",
    "print('Test acc = ' + str(log.score(X_test,y_test)*100))"
   ]
  },
  {
   "cell_type": "code",
   "execution_count": 79,
   "metadata": {
    "collapsed": true
   },
   "outputs": [
    {
     "name": "stdout",
     "output_type": "stream",
     "text": [
      "at C = 1 , Training accuracy =  99.55456570155901%  , testing accuracy = 96.44444444444444%\n",
      "at C = 2 , Training accuracy =  99.62880475129919%  , testing accuracy = 95.77777777777777%\n",
      "at C = 3 , Training accuracy =  99.70304380103934%  , testing accuracy = 95.55555555555556%\n",
      "at C = 4 , Training accuracy =  99.77728285077951%  , testing accuracy = 95.11111111111111%\n",
      "at C = 5 , Training accuracy =  99.77728285077951%  , testing accuracy = 95.11111111111111%\n",
      "at C = 6 , Training accuracy =  99.77728285077951%  , testing accuracy = 95.33333333333334%\n",
      "at C = 7 , Training accuracy =  99.77728285077951%  , testing accuracy = 95.33333333333334%\n",
      "at C = 8 , Training accuracy =  99.77728285077951%  , testing accuracy = 95.33333333333334%\n",
      "at C = 9 , Training accuracy =  99.77728285077951%  , testing accuracy = 95.33333333333334%\n",
      "at C = 10 , Training accuracy =  99.77728285077951%  , testing accuracy = 95.33333333333334%\n",
      "at C = 11 , Training accuracy =  99.77728285077951%  , testing accuracy = 95.33333333333334%\n",
      "at C = 12 , Training accuracy =  99.77728285077951%  , testing accuracy = 95.33333333333334%\n",
      "at C = 13 , Training accuracy =  99.85152190051967%  , testing accuracy = 95.33333333333334%\n",
      "at C = 14 , Training accuracy =  99.85152190051967%  , testing accuracy = 95.33333333333334%\n",
      "at C = 15 , Training accuracy =  99.85152190051967%  , testing accuracy = 95.33333333333334%\n",
      "at C = 16 , Training accuracy =  99.85152190051967%  , testing accuracy = 95.33333333333334%\n",
      "at C = 17 , Training accuracy =  99.85152190051967%  , testing accuracy = 95.33333333333334%\n",
      "at C = 18 , Training accuracy =  99.85152190051967%  , testing accuracy = 95.11111111111111%\n",
      "at C = 19 , Training accuracy =  99.85152190051967%  , testing accuracy = 95.11111111111111%\n",
      "at C = 20 , Training accuracy =  99.85152190051967%  , testing accuracy = 95.11111111111111%\n",
      "at C = 21 , Training accuracy =  99.85152190051967%  , testing accuracy = 94.88888888888889%\n",
      "at C = 22 , Training accuracy =  99.85152190051967%  , testing accuracy = 94.88888888888889%\n",
      "at C = 23 , Training accuracy =  99.85152190051967%  , testing accuracy = 94.66666666666667%\n",
      "at C = 24 , Training accuracy =  99.85152190051967%  , testing accuracy = 94.66666666666667%\n",
      "at C = 25 , Training accuracy =  99.85152190051967%  , testing accuracy = 94.88888888888889%\n",
      "at C = 26 , Training accuracy =  99.85152190051967%  , testing accuracy = 94.66666666666667%\n",
      "at C = 27 , Training accuracy =  99.85152190051967%  , testing accuracy = 94.66666666666667%\n",
      "at C = 28 , Training accuracy =  99.85152190051967%  , testing accuracy = 94.66666666666667%\n",
      "at C = 29 , Training accuracy =  99.85152190051967%  , testing accuracy = 94.66666666666667%\n",
      "at C = 30 , Training accuracy =  99.85152190051967%  , testing accuracy = 94.66666666666667%\n",
      "at C = 31 , Training accuracy =  99.85152190051967%  , testing accuracy = 94.66666666666667%\n",
      "at C = 32 , Training accuracy =  99.85152190051967%  , testing accuracy = 94.66666666666667%\n",
      "at C = 33 , Training accuracy =  99.85152190051967%  , testing accuracy = 94.44444444444444%\n",
      "at C = 34 , Training accuracy =  99.85152190051967%  , testing accuracy = 94.66666666666667%\n",
      "at C = 35 , Training accuracy =  99.85152190051967%  , testing accuracy = 94.66666666666667%\n",
      "at C = 36 , Training accuracy =  99.85152190051967%  , testing accuracy = 94.44444444444444%\n",
      "at C = 37 , Training accuracy =  99.85152190051967%  , testing accuracy = 94.44444444444444%\n",
      "at C = 38 , Training accuracy =  99.85152190051967%  , testing accuracy = 94.22222222222221%\n",
      "at C = 39 , Training accuracy =  99.85152190051967%  , testing accuracy = 94.44444444444444%\n",
      "at C = 40 , Training accuracy =  99.85152190051967%  , testing accuracy = 94.44444444444444%\n",
      "at C = 41 , Training accuracy =  99.85152190051967%  , testing accuracy = 94.22222222222221%\n",
      "at C = 42 , Training accuracy =  99.85152190051967%  , testing accuracy = 94.66666666666667%\n",
      "at C = 43 , Training accuracy =  99.85152190051967%  , testing accuracy = 94.44444444444444%\n",
      "at C = 44 , Training accuracy =  99.85152190051967%  , testing accuracy = 94.44444444444444%\n",
      "at C = 45 , Training accuracy =  99.85152190051967%  , testing accuracy = 94.44444444444444%\n",
      "at C = 46 , Training accuracy =  99.85152190051967%  , testing accuracy = 94.22222222222221%\n",
      "at C = 47 , Training accuracy =  99.85152190051967%  , testing accuracy = 94.66666666666667%\n",
      "at C = 48 , Training accuracy =  99.85152190051967%  , testing accuracy = 94.44444444444444%\n",
      "at C = 49 , Training accuracy =  99.85152190051967%  , testing accuracy = 94.44444444444444%\n"
     ]
    }
   ],
   "source": [
    "for i in range(1,50):\n",
    "    log = LogisticRegression(C=i,solver='liblinear',multi_class='auto')\n",
    "    log.fit(X_train,y_train)\n",
    "    train_acc = log.score(X_train,y_train)\n",
    "    test_acc = log.score(X_test,y_test)\n",
    "    print(\"at C = \"+str(i)+\" , Training accuracy =  \"+str(train_acc*100)+str(\"%\") + '  , testing accuracy = '+str(test_acc*100)+str(\"%\"))\n",
    "    "
   ]
  },
  {
   "cell_type": "code",
   "execution_count": 77,
   "metadata": {},
   "outputs": [
    {
     "data": {
      "text/plain": [
       "{'C': 0.01}"
      ]
     },
     "execution_count": 77,
     "metadata": {},
     "output_type": "execute_result"
    }
   ],
   "source": [
    "from sklearn.model_selection import cross_val_score\n",
    "from sklearn.model_selection import GridSearchCV\n",
    "\n",
    "log = LogisticRegression(C=i,solver='liblinear',multi_class='auto')\n",
    "param_grid = {'C': np.arange(0.01, 25)}\n",
    "log_gscv = GridSearchCV(log, param_grid, cv=5)\n",
    "log_gscv.fit(X, y)\n",
    "log_gscv.best_params_"
   ]
  },
  {
   "cell_type": "code",
   "execution_count": 81,
   "metadata": {},
   "outputs": [
    {
     "data": {
      "image/png": "[encoded data removed]",
      "text/plain": [
       "<Figure size 432x288 with 1 Axes>"
      ]
     },
     "metadata": {
      "needs_background": "light"
     },
     "output_type": "display_data"
    }
   ],
   "source": [
    "import matplotlib.pyplot as plt\n",
    "%matplotlib inline\n",
    "seen,unseen = [],[]\n",
    "C_param = np.linspace(0.01,1,100)\n",
    "for i in C_param:\n",
    "    log = LogisticRegression(C=i,solver='liblinear',multi_class='auto')\n",
    "    log.fit(X_train,y_train)\n",
    "    train_acc = log.score(X_train,y_train)\n",
    "    test_acc = log.score(X_test,y_test)\n",
    "    seen.append(test_acc)\n",
    "    unseen.append(train_acc)\n",
    "plt.plot(C_param,seen,label='train')\n",
    "plt.plot(C_param,unseen,label='test')\n",
    "plt.ylabel(\"Accurracy\")\n",
    "plt.xlabel(\"C\")\n",
    "plt.legend()\n",
    "plt.show()"
   ]
  },
  {
   "cell_type": "code",
   "execution_count": 80,
   "metadata": {
    "collapsed": true
   },
   "outputs": [
    {
     "name": "stdout",
     "output_type": "stream",
     "text": [
      "at C = 0.01 , Training accuracy =  98.29250185597624%  , testing accuracy = 97.11111111111111%\n",
      "at C = 0.02 , Training accuracy =  98.66369710467706%  , testing accuracy = 96.66666666666667%\n",
      "at C = 0.03 , Training accuracy =  98.73793615441723%  , testing accuracy = 96.66666666666667%\n",
      "at C = 0.04 , Training accuracy =  98.88641425389754%  , testing accuracy = 96.66666666666667%\n",
      "at C = 0.05 , Training accuracy =  98.96065330363771%  , testing accuracy = 96.44444444444444%\n",
      "at C = 0.060000000000000005 , Training accuracy =  99.03489235337788%  , testing accuracy = 96.44444444444444%\n",
      "at C = 0.06999999999999999 , Training accuracy =  99.03489235337788%  , testing accuracy = 96.44444444444444%\n",
      "at C = 0.08 , Training accuracy =  99.03489235337788%  , testing accuracy = 96.44444444444444%\n",
      "at C = 0.09 , Training accuracy =  99.10913140311804%  , testing accuracy = 96.44444444444444%\n",
      "at C = 0.09999999999999999 , Training accuracy =  99.1833704528582%  , testing accuracy = 96.44444444444444%\n",
      "at C = 0.11 , Training accuracy =  99.25760950259837%  , testing accuracy = 96.44444444444444%\n",
      "at C = 0.12 , Training accuracy =  99.25760950259837%  , testing accuracy = 96.44444444444444%\n",
      "at C = 0.13 , Training accuracy =  99.25760950259837%  , testing accuracy = 96.44444444444444%\n",
      "at C = 0.14 , Training accuracy =  99.25760950259837%  , testing accuracy = 96.44444444444444%\n",
      "at C = 0.15000000000000002 , Training accuracy =  99.33184855233853%  , testing accuracy = 96.44444444444444%\n",
      "at C = 0.16 , Training accuracy =  99.4060876020787%  , testing accuracy = 96.44444444444444%\n",
      "at C = 0.17 , Training accuracy =  99.4060876020787%  , testing accuracy = 96.44444444444444%\n",
      "at C = 0.18000000000000002 , Training accuracy =  99.4060876020787%  , testing accuracy = 96.44444444444444%\n",
      "at C = 0.19 , Training accuracy =  99.4060876020787%  , testing accuracy = 96.44444444444444%\n",
      "at C = 0.2 , Training accuracy =  99.4060876020787%  , testing accuracy = 96.44444444444444%\n",
      "at C = 0.21000000000000002 , Training accuracy =  99.4060876020787%  , testing accuracy = 96.44444444444444%\n",
      "at C = 0.22 , Training accuracy =  99.4060876020787%  , testing accuracy = 96.44444444444444%\n",
      "at C = 0.23 , Training accuracy =  99.4060876020787%  , testing accuracy = 96.44444444444444%\n",
      "at C = 0.24000000000000002 , Training accuracy =  99.4060876020787%  , testing accuracy = 96.44444444444444%\n",
      "at C = 0.25 , Training accuracy =  99.4060876020787%  , testing accuracy = 96.44444444444444%\n",
      "at C = 0.26 , Training accuracy =  99.48032665181886%  , testing accuracy = 96.44444444444444%\n",
      "at C = 0.27 , Training accuracy =  99.48032665181886%  , testing accuracy = 96.44444444444444%\n",
      "at C = 0.28 , Training accuracy =  99.48032665181886%  , testing accuracy = 96.44444444444444%\n",
      "at C = 0.29000000000000004 , Training accuracy =  99.48032665181886%  , testing accuracy = 96.44444444444444%\n",
      "at C = 0.3 , Training accuracy =  99.48032665181886%  , testing accuracy = 96.44444444444444%\n",
      "at C = 0.31 , Training accuracy =  99.48032665181886%  , testing accuracy = 96.44444444444444%\n",
      "at C = 0.32 , Training accuracy =  99.48032665181886%  , testing accuracy = 96.44444444444444%\n",
      "at C = 0.33 , Training accuracy =  99.48032665181886%  , testing accuracy = 96.44444444444444%\n",
      "at C = 0.34 , Training accuracy =  99.48032665181886%  , testing accuracy = 96.44444444444444%\n",
      "at C = 0.35000000000000003 , Training accuracy =  99.48032665181886%  , testing accuracy = 96.44444444444444%\n",
      "at C = 0.36000000000000004 , Training accuracy =  99.48032665181886%  , testing accuracy = 96.44444444444444%\n",
      "at C = 0.37 , Training accuracy =  99.48032665181886%  , testing accuracy = 96.44444444444444%\n",
      "at C = 0.38 , Training accuracy =  99.48032665181886%  , testing accuracy = 96.44444444444444%\n",
      "at C = 0.39 , Training accuracy =  99.48032665181886%  , testing accuracy = 96.44444444444444%\n",
      "at C = 0.4 , Training accuracy =  99.48032665181886%  , testing accuracy = 96.44444444444444%\n",
      "at C = 0.41000000000000003 , Training accuracy =  99.48032665181886%  , testing accuracy = 96.44444444444444%\n",
      "at C = 0.42000000000000004 , Training accuracy =  99.48032665181886%  , testing accuracy = 96.44444444444444%\n",
      "at C = 0.43 , Training accuracy =  99.48032665181886%  , testing accuracy = 96.44444444444444%\n",
      "at C = 0.44 , Training accuracy =  99.48032665181886%  , testing accuracy = 96.22222222222221%\n",
      "at C = 0.45 , Training accuracy =  99.55456570155901%  , testing accuracy = 96.22222222222221%\n",
      "at C = 0.46 , Training accuracy =  99.55456570155901%  , testing accuracy = 96.22222222222221%\n",
      "at C = 0.47000000000000003 , Training accuracy =  99.55456570155901%  , testing accuracy = 96.22222222222221%\n",
      "at C = 0.48000000000000004 , Training accuracy =  99.55456570155901%  , testing accuracy = 96.22222222222221%\n",
      "at C = 0.49 , Training accuracy =  99.55456570155901%  , testing accuracy = 96.22222222222221%\n",
      "at C = 0.5 , Training accuracy =  99.55456570155901%  , testing accuracy = 96.22222222222221%\n",
      "at C = 0.51 , Training accuracy =  99.55456570155901%  , testing accuracy = 96.22222222222221%\n",
      "at C = 0.52 , Training accuracy =  99.55456570155901%  , testing accuracy = 96.22222222222221%\n",
      "at C = 0.53 , Training accuracy =  99.55456570155901%  , testing accuracy = 96.44444444444444%\n",
      "at C = 0.54 , Training accuracy =  99.55456570155901%  , testing accuracy = 96.44444444444444%\n",
      "at C = 0.55 , Training accuracy =  99.55456570155901%  , testing accuracy = 96.44444444444444%\n",
      "at C = 0.56 , Training accuracy =  99.55456570155901%  , testing accuracy = 96.44444444444444%\n",
      "at C = 0.5700000000000001 , Training accuracy =  99.55456570155901%  , testing accuracy = 96.44444444444444%\n",
      "at C = 0.5800000000000001 , Training accuracy =  99.55456570155901%  , testing accuracy = 96.44444444444444%\n",
      "at C = 0.59 , Training accuracy =  99.55456570155901%  , testing accuracy = 96.22222222222221%\n",
      "at C = 0.6 , Training accuracy =  99.55456570155901%  , testing accuracy = 96.22222222222221%\n",
      "at C = 0.61 , Training accuracy =  99.55456570155901%  , testing accuracy = 96.22222222222221%\n",
      "at C = 0.62 , Training accuracy =  99.55456570155901%  , testing accuracy = 96.22222222222221%\n",
      "at C = 0.63 , Training accuracy =  99.55456570155901%  , testing accuracy = 96.22222222222221%\n",
      "at C = 0.64 , Training accuracy =  99.55456570155901%  , testing accuracy = 96.22222222222221%\n",
      "at C = 0.65 , Training accuracy =  99.55456570155901%  , testing accuracy = 96.22222222222221%\n",
      "at C = 0.66 , Training accuracy =  99.55456570155901%  , testing accuracy = 96.22222222222221%\n",
      "at C = 0.67 , Training accuracy =  99.55456570155901%  , testing accuracy = 96.22222222222221%\n",
      "at C = 0.68 , Training accuracy =  99.55456570155901%  , testing accuracy = 96.22222222222221%\n",
      "at C = 0.6900000000000001 , Training accuracy =  99.55456570155901%  , testing accuracy = 96.22222222222221%\n",
      "at C = 0.7000000000000001 , Training accuracy =  99.55456570155901%  , testing accuracy = 96.22222222222221%\n",
      "at C = 0.7100000000000001 , Training accuracy =  99.55456570155901%  , testing accuracy = 96.22222222222221%\n",
      "at C = 0.72 , Training accuracy =  99.55456570155901%  , testing accuracy = 96.22222222222221%\n",
      "at C = 0.73 , Training accuracy =  99.55456570155901%  , testing accuracy = 96.22222222222221%\n",
      "at C = 0.74 , Training accuracy =  99.55456570155901%  , testing accuracy = 96.22222222222221%\n",
      "at C = 0.75 , Training accuracy =  99.55456570155901%  , testing accuracy = 96.22222222222221%\n",
      "at C = 0.76 , Training accuracy =  99.55456570155901%  , testing accuracy = 96.22222222222221%\n",
      "at C = 0.77 , Training accuracy =  99.55456570155901%  , testing accuracy = 96.22222222222221%\n",
      "at C = 0.78 , Training accuracy =  99.55456570155901%  , testing accuracy = 96.22222222222221%\n",
      "at C = 0.79 , Training accuracy =  99.55456570155901%  , testing accuracy = 96.22222222222221%\n",
      "at C = 0.8 , Training accuracy =  99.55456570155901%  , testing accuracy = 96.22222222222221%\n",
      "at C = 0.81 , Training accuracy =  99.55456570155901%  , testing accuracy = 96.22222222222221%\n",
      "at C = 0.8200000000000001 , Training accuracy =  99.55456570155901%  , testing accuracy = 96.22222222222221%\n",
      "at C = 0.8300000000000001 , Training accuracy =  99.55456570155901%  , testing accuracy = 96.22222222222221%\n"
     ]
    },
    {
     "name": "stdout",
     "output_type": "stream",
     "text": [
      "at C = 0.8400000000000001 , Training accuracy =  99.55456570155901%  , testing accuracy = 96.22222222222221%\n",
      "at C = 0.85 , Training accuracy =  99.55456570155901%  , testing accuracy = 96.22222222222221%\n",
      "at C = 0.86 , Training accuracy =  99.55456570155901%  , testing accuracy = 96.22222222222221%\n",
      "at C = 0.87 , Training accuracy =  99.55456570155901%  , testing accuracy = 96.22222222222221%\n",
      "at C = 0.88 , Training accuracy =  99.55456570155901%  , testing accuracy = 96.22222222222221%\n",
      "at C = 0.89 , Training accuracy =  99.55456570155901%  , testing accuracy = 96.22222222222221%\n",
      "at C = 0.9 , Training accuracy =  99.55456570155901%  , testing accuracy = 96.22222222222221%\n",
      "at C = 0.91 , Training accuracy =  99.55456570155901%  , testing accuracy = 96.22222222222221%\n",
      "at C = 0.92 , Training accuracy =  99.55456570155901%  , testing accuracy = 96.22222222222221%\n",
      "at C = 0.93 , Training accuracy =  99.55456570155901%  , testing accuracy = 96.22222222222221%\n",
      "at C = 0.9400000000000001 , Training accuracy =  99.55456570155901%  , testing accuracy = 96.22222222222221%\n",
      "at C = 0.9500000000000001 , Training accuracy =  99.55456570155901%  , testing accuracy = 96.44444444444444%\n",
      "at C = 0.9600000000000001 , Training accuracy =  99.55456570155901%  , testing accuracy = 96.44444444444444%\n",
      "at C = 0.97 , Training accuracy =  99.55456570155901%  , testing accuracy = 96.44444444444444%\n",
      "at C = 0.98 , Training accuracy =  99.55456570155901%  , testing accuracy = 96.44444444444444%\n",
      "at C = 0.99 , Training accuracy =  99.55456570155901%  , testing accuracy = 96.44444444444444%\n",
      "at C = 1.0 , Training accuracy =  99.55456570155901%  , testing accuracy = 96.44444444444444%\n"
     ]
    }
   ],
   "source": [
    "arr = np.linspace(0.01,1,100)\n",
    "for i in arr:\n",
    "    log = LogisticRegression(C=i,solver='liblinear',multi_class='auto')\n",
    "    log.fit(X_train,y_train)\n",
    "    train_acc = log.score(X_train,y_train)\n",
    "    test_acc = log.score(X_test,y_test)\n",
    "    print(\"at C = \"+str(i)+\" , Training accuracy =  \"+str(train_acc*100)+str(\"%\") + '  , testing accuracy = '+str(test_acc*100)+str(\"%\"))"
   ]
  },
  {
   "cell_type": "code",
   "execution_count": 76,
   "metadata": {
    "collapsed": true
   },
   "outputs": [
    {
     "data": {
      "text/plain": [
       "array([0.01, 0.02, 0.03, 0.04, 0.05, 0.06, 0.07, 0.08, 0.09, 0.1 , 0.11,\n",
       "       0.12, 0.13, 0.14, 0.15, 0.16, 0.17, 0.18, 0.19, 0.2 , 0.21, 0.22,\n",
       "       0.23, 0.24, 0.25, 0.26, 0.27, 0.28, 0.29, 0.3 , 0.31, 0.32, 0.33,\n",
       "       0.34, 0.35, 0.36, 0.37, 0.38, 0.39, 0.4 , 0.41, 0.42, 0.43, 0.44,\n",
       "       0.45, 0.46, 0.47, 0.48, 0.49, 0.5 , 0.51, 0.52, 0.53, 0.54, 0.55,\n",
       "       0.56, 0.57, 0.58, 0.59, 0.6 , 0.61, 0.62, 0.63, 0.64, 0.65, 0.66,\n",
       "       0.67, 0.68, 0.69, 0.7 , 0.71, 0.72, 0.73, 0.74, 0.75, 0.76, 0.77,\n",
       "       0.78, 0.79, 0.8 , 0.81, 0.82, 0.83, 0.84, 0.85, 0.86, 0.87, 0.88,\n",
       "       0.89, 0.9 , 0.91, 0.92, 0.93, 0.94, 0.95, 0.96, 0.97, 0.98, 0.99,\n",
       "       1.  ])"
      ]
     },
     "execution_count": 76,
     "metadata": {},
     "output_type": "execute_result"
    }
   ],
   "source": []
  },
  {
   "cell_type": "code",
   "execution_count": null,
   "metadata": {},
   "outputs": [],
   "source": []
  }
 ],
 "metadata": {
  "kernelspec": {
   "display_name": "Python 3",
   "language": "python",
   "name": "python3"
  },
  "language_info": {
   "codemirror_mode": {
    "name": "ipython",
    "version": 3
   },
   "file_extension": ".py",
   "mimetype": "text/x-python",
   "name": "python",
   "nbconvert_exporter": "python",
   "pygments_lexer": "ipython3",
   "version": "3.7.1"
  }
 },
 "nbformat": 4,
 "nbformat_minor": 2
}
